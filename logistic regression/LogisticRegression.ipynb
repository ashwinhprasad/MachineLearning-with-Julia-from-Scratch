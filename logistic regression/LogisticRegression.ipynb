{
 "cells": [
  {
   "cell_type": "code",
   "execution_count": 1,
   "metadata": {},
   "outputs": [],
   "source": [
    "# importing the modules\n",
    "using Plots;\n",
    "using Printf"
   ]
  },
  {
   "cell_type": "code",
   "execution_count": 2,
   "metadata": {},
   "outputs": [],
   "source": [
    "# calculate prediction\n",
    "function calc_h0(x,theta)\n",
    "    z = x*theta;\n",
    "    h0 = 1 ./ ( 1 .+ ℯ.^(-z))\n",
    "    return h0;\n",
    "end;"
   ]
  },
  {
   "cell_type": "code",
   "execution_count": 3,
   "metadata": {},
   "outputs": [],
   "source": [
    "# calculate loss\n",
    "function calc_cost(h0,y)\n",
    "    n = length(y);\n",
    "    (1/n)*(-((transpose(y)*log.(h0))+(transpose(1 .-y)*log.(1 .-h0))))\n",
    "end;"
   ]
  },
  {
   "cell_type": "code",
   "execution_count": 4,
   "metadata": {},
   "outputs": [],
   "source": [
    "# calculate gradients\n",
    "function calc_dw(x,y,h0)\n",
    "    return 1/(size(x)[1])*(transpose(h0 - y)*x);\n",
    "end;"
   ]
  },
  {
   "cell_type": "code",
   "execution_count": 5,
   "metadata": {},
   "outputs": [],
   "source": [
    "# dataset\n",
    "x = [ones(50) collect(1:50)];\n",
    "y = ((x[:,2]) .- 19)\n",
    "z = 1 ./(1 .+ℯ .^(-y))\n",
    "\n",
    "# encoding dependent variable\n",
    "y = []\n",
    "for i in z\n",
    "    if i >= 0.5\n",
    "        push!(y,1);\n",
    "    else\n",
    "        push!(y,0);\n",
    "    end;\n",
    "end;"
   ]
  },
  {
   "cell_type": "code",
   "execution_count": 6,
   "metadata": {},
   "outputs": [],
   "source": [
    "# initialize weights\n",
    "theta = rand(2);"
   ]
  },
  {
   "cell_type": "code",
   "execution_count": 7,
   "metadata": {},
   "outputs": [
    {
     "name": "stdout",
     "output_type": "stream",
     "text": [
      "Iteration: 4000    cost: 0.17\n",
      "Iteration: 8000    cost: 0.13\n",
      "Iteration: 12000    cost: 0.11\n",
      "Iteration: 16000    cost: 0.10\n",
      "Iteration: 20000    cost: 0.09\n",
      "Iteration: 24000    cost: 0.08\n",
      "Iteration: 28000    cost: 0.08\n",
      "Iteration: 32000    cost: 0.08\n",
      "Iteration: 36000    cost: 0.07\n",
      "Iteration: 40000    cost: 0.07\n"
     ]
    }
   ],
   "source": [
    "# hyperparameters\n",
    "epochs = 40000\n",
    "aplha = 0.01\n",
    "\n",
    "# training loop\n",
    "for i in 1:epochs\n",
    "    \n",
    "    # make prediction\n",
    "    h0 = calc_h0(x,theta);\n",
    "    \n",
    "    # calculate cost\n",
    "    cost = calc_cost(h0,y);\n",
    "    \n",
    "    # gradient update\n",
    "    dw = calc_dw(x,y,h0);\n",
    "    theta = theta - aplha.*transpose(dw)\n",
    "    \n",
    "    if i%(epochs/10) == 0\n",
    "        @printf(\"Iteration: %d    cost: %.2f\\n\",i,cost);\n",
    "    end;\n",
    "end;"
   ]
  },
  {
   "cell_type": "code",
   "execution_count": 8,
   "metadata": {},
   "outputs": [],
   "source": [
    "# make predictions\n",
    "y_hat = []\n",
    "for i in calc_h0(x,theta)\n",
    "    if i >= 0.5\n",
    "        push!(y_hat,1)\n",
    "    else\n",
    "        push!(y_hat,0)\n",
    "    end;\n",
    "end;"
   ]
  },
  {
   "cell_type": "code",
   "execution_count": 9,
   "metadata": {},
   "outputs": [
    {
     "name": "stdout",
     "output_type": "stream",
     "text": [
      "Accuracy is :50"
     ]
    }
   ],
   "source": [
    "@printf(\"Accuracy is :%d\",sum(y_hat .== y))"
   ]
  },
  {
   "cell_type": "code",
   "execution_count": 10,
   "metadata": {},
   "outputs": [
    {
     "data": {
      "image/svg+xml": [
       "<?xml version=\"1.0\" encoding=\"utf-8\"?>\n",
       "<svg xmlns=\"http://www.w3.org/2000/svg\" xmlns:xlink=\"http://www.w3.org/1999/xlink\" width=\"600\" height=\"400\" viewBox=\"0 0 2400 1600\">\n",
       "<defs>\n",
       "  <clipPath id=\"clip600\">\n",
       "    <rect x=\"0\" y=\"0\" width=\"2400\" height=\"1600\"/>\n",
       "  </clipPath>\n",
       "</defs>\n",
       "<path clip-path=\"url(#clip600)\" d=\"\n",
       "M0 1600 L2400 1600 L2400 0 L0 0  Z\n",
       "  \" fill=\"#ffffff\" fill-rule=\"evenodd\" fill-opacity=\"1\"/>\n",
       "<defs>\n",
       "  <clipPath id=\"clip601\">\n",
       "    <rect x=\"480\" y=\"0\" width=\"1681\" height=\"1600\"/>\n",
       "  </clipPath>\n",
       "</defs>\n",
       "<path clip-path=\"url(#clip600)\" d=\"\n",
       "M174.862 1486.45 L2352.76 1486.45 L2352.76 47.2441 L174.862 47.2441  Z\n",
       "  \" fill=\"#ffffff\" fill-rule=\"evenodd\" fill-opacity=\"1\"/>\n",
       "<defs>\n",
       "  <clipPath id=\"clip602\">\n",
       "    <rect x=\"174\" y=\"47\" width=\"2179\" height=\"1440\"/>\n",
       "  </clipPath>\n",
       "</defs>\n",
       "<polyline clip-path=\"url(#clip602)\" style=\"stroke:#000000; stroke-width:2; stroke-opacity:0.1; fill:none\" points=\"\n",
       "  194.57,1486.45 194.57,47.2441 \n",
       "  \"/>\n",
       "<polyline clip-path=\"url(#clip602)\" style=\"stroke:#000000; stroke-width:2; stroke-opacity:0.1; fill:none\" points=\"\n",
       "  613.879,1486.45 613.879,47.2441 \n",
       "  \"/>\n",
       "<polyline clip-path=\"url(#clip602)\" style=\"stroke:#000000; stroke-width:2; stroke-opacity:0.1; fill:none\" points=\"\n",
       "  1033.19,1486.45 1033.19,47.2441 \n",
       "  \"/>\n",
       "<polyline clip-path=\"url(#clip602)\" style=\"stroke:#000000; stroke-width:2; stroke-opacity:0.1; fill:none\" points=\"\n",
       "  1452.5,1486.45 1452.5,47.2441 \n",
       "  \"/>\n",
       "<polyline clip-path=\"url(#clip602)\" style=\"stroke:#000000; stroke-width:2; stroke-opacity:0.1; fill:none\" points=\"\n",
       "  1871.81,1486.45 1871.81,47.2441 \n",
       "  \"/>\n",
       "<polyline clip-path=\"url(#clip602)\" style=\"stroke:#000000; stroke-width:2; stroke-opacity:0.1; fill:none\" points=\"\n",
       "  2291.12,1486.45 2291.12,47.2441 \n",
       "  \"/>\n",
       "<polyline clip-path=\"url(#clip600)\" style=\"stroke:#000000; stroke-width:4; stroke-opacity:1; fill:none\" points=\"\n",
       "  174.862,1486.45 2352.76,1486.45 \n",
       "  \"/>\n",
       "<polyline clip-path=\"url(#clip600)\" style=\"stroke:#000000; stroke-width:4; stroke-opacity:1; fill:none\" points=\"\n",
       "  194.57,1486.45 194.57,1469.18 \n",
       "  \"/>\n",
       "<polyline clip-path=\"url(#clip600)\" style=\"stroke:#000000; stroke-width:4; stroke-opacity:1; fill:none\" points=\"\n",
       "  613.879,1486.45 613.879,1469.18 \n",
       "  \"/>\n",
       "<polyline clip-path=\"url(#clip600)\" style=\"stroke:#000000; stroke-width:4; stroke-opacity:1; fill:none\" points=\"\n",
       "  1033.19,1486.45 1033.19,1469.18 \n",
       "  \"/>\n",
       "<polyline clip-path=\"url(#clip600)\" style=\"stroke:#000000; stroke-width:4; stroke-opacity:1; fill:none\" points=\"\n",
       "  1452.5,1486.45 1452.5,1469.18 \n",
       "  \"/>\n",
       "<polyline clip-path=\"url(#clip600)\" style=\"stroke:#000000; stroke-width:4; stroke-opacity:1; fill:none\" points=\"\n",
       "  1871.81,1486.45 1871.81,1469.18 \n",
       "  \"/>\n",
       "<polyline clip-path=\"url(#clip600)\" style=\"stroke:#000000; stroke-width:4; stroke-opacity:1; fill:none\" points=\"\n",
       "  2291.12,1486.45 2291.12,1469.18 \n",
       "  \"/>\n",
       "<path clip-path=\"url(#clip600)\" d=\"M 0 0 M194.57 1515.64 Q190.958 1515.64 189.13 1519.2 Q187.324 1522.75 187.324 1529.87 Q187.324 1536.98 189.13 1540.55 Q190.958 1544.09 194.57 1544.09 Q198.204 1544.09 200.009 1540.55 Q201.838 1536.98 201.838 1529.87 Q201.838 1522.75 200.009 1519.2 Q198.204 1515.64 194.57 1515.64 M194.57 1511.93 Q200.38 1511.93 203.435 1516.54 Q206.514 1521.12 206.514 1529.87 Q206.514 1538.6 203.435 1543.21 Q200.38 1547.79 194.57 1547.79 Q188.759 1547.79 185.681 1543.21 Q182.625 1538.6 182.625 1529.87 Q182.625 1521.12 185.681 1516.54 Q188.759 1511.93 194.57 1511.93 Z\" fill=\"#000000\" fill-rule=\"evenodd\" fill-opacity=\"1\" /><path clip-path=\"url(#clip600)\" d=\"M 0 0 M590.754 1543.18 L598.393 1543.18 L598.393 1516.82 L590.083 1518.49 L590.083 1514.23 L598.347 1512.56 L603.023 1512.56 L603.023 1543.18 L610.662 1543.18 L610.662 1547.12 L590.754 1547.12 L590.754 1543.18 Z\" fill=\"#000000\" fill-rule=\"evenodd\" fill-opacity=\"1\" /><path clip-path=\"url(#clip600)\" d=\"M 0 0 M625.731 1515.64 Q622.12 1515.64 620.291 1519.2 Q618.486 1522.75 618.486 1529.87 Q618.486 1536.98 620.291 1540.55 Q622.12 1544.09 625.731 1544.09 Q629.365 1544.09 631.171 1540.55 Q632.999 1536.98 632.999 1529.87 Q632.999 1522.75 631.171 1519.2 Q629.365 1515.64 625.731 1515.64 M625.731 1511.93 Q631.541 1511.93 634.597 1516.54 Q637.675 1521.12 637.675 1529.87 Q637.675 1538.6 634.597 1543.21 Q631.541 1547.79 625.731 1547.79 Q619.921 1547.79 616.842 1543.21 Q613.787 1538.6 613.787 1529.87 Q613.787 1521.12 616.842 1516.54 Q619.921 1511.93 625.731 1511.93 Z\" fill=\"#000000\" fill-rule=\"evenodd\" fill-opacity=\"1\" /><path clip-path=\"url(#clip600)\" d=\"M 0 0 M1014.33 1543.18 L1030.65 1543.18 L1030.65 1547.12 L1008.71 1547.12 L1008.71 1543.18 Q1011.37 1540.43 1015.96 1535.8 Q1020.56 1531.15 1021.74 1529.81 Q1023.99 1527.28 1024.87 1525.55 Q1025.77 1523.79 1025.77 1522.1 Q1025.77 1519.34 1023.83 1517.61 Q1021.9 1515.87 1018.8 1515.87 Q1016.6 1515.87 1014.15 1516.63 Q1011.72 1517.4 1008.94 1518.95 L1008.94 1514.23 Q1011.77 1513.09 1014.22 1512.51 Q1016.67 1511.93 1018.71 1511.93 Q1024.08 1511.93 1027.27 1514.62 Q1030.47 1517.31 1030.47 1521.8 Q1030.47 1523.93 1029.66 1525.85 Q1028.87 1527.74 1026.77 1530.34 Q1026.19 1531.01 1023.08 1534.23 Q1019.98 1537.42 1014.33 1543.18 Z\" fill=\"#000000\" fill-rule=\"evenodd\" fill-opacity=\"1\" /><path clip-path=\"url(#clip600)\" d=\"M 0 0 M1045.72 1515.64 Q1042.11 1515.64 1040.28 1519.2 Q1038.48 1522.75 1038.48 1529.87 Q1038.48 1536.98 1040.28 1540.55 Q1042.11 1544.09 1045.72 1544.09 Q1049.36 1544.09 1051.16 1540.55 Q1052.99 1536.98 1052.99 1529.87 Q1052.99 1522.75 1051.16 1519.2 Q1049.36 1515.64 1045.72 1515.64 M1045.72 1511.93 Q1051.53 1511.93 1054.59 1516.54 Q1057.67 1521.12 1057.67 1529.87 Q1057.67 1538.6 1054.59 1543.21 Q1051.53 1547.79 1045.72 1547.79 Q1039.91 1547.79 1036.83 1543.21 Q1033.78 1538.6 1033.78 1529.87 Q1033.78 1521.12 1036.83 1516.54 Q1039.91 1511.93 1045.72 1511.93 Z\" fill=\"#000000\" fill-rule=\"evenodd\" fill-opacity=\"1\" /><path clip-path=\"url(#clip600)\" d=\"M 0 0 M1443.24 1528.49 Q1446.6 1529.2 1448.47 1531.47 Q1450.37 1533.74 1450.37 1537.07 Q1450.37 1542.19 1446.85 1544.99 Q1443.33 1547.79 1436.85 1547.79 Q1434.67 1547.79 1432.36 1547.35 Q1430.07 1546.93 1427.61 1546.08 L1427.61 1541.56 Q1429.56 1542.7 1431.87 1543.28 Q1434.19 1543.86 1436.71 1543.86 Q1441.11 1543.86 1443.4 1542.12 Q1445.72 1540.38 1445.72 1537.07 Q1445.72 1534.02 1443.56 1532.31 Q1441.43 1530.57 1437.61 1530.57 L1433.59 1530.57 L1433.59 1526.73 L1437.8 1526.73 Q1441.25 1526.73 1443.08 1525.36 Q1444.91 1523.97 1444.91 1521.38 Q1444.91 1518.72 1443.01 1517.31 Q1441.13 1515.87 1437.61 1515.87 Q1435.69 1515.87 1433.49 1516.29 Q1431.29 1516.7 1428.66 1517.58 L1428.66 1513.42 Q1431.32 1512.68 1433.63 1512.31 Q1435.97 1511.93 1438.03 1511.93 Q1443.35 1511.93 1446.46 1514.37 Q1449.56 1516.77 1449.56 1520.89 Q1449.56 1523.76 1447.91 1525.75 Q1446.27 1527.72 1443.24 1528.49 Z\" fill=\"#000000\" fill-rule=\"evenodd\" fill-opacity=\"1\" /><path clip-path=\"url(#clip600)\" d=\"M 0 0 M1465.44 1515.64 Q1461.83 1515.64 1460 1519.2 Q1458.19 1522.75 1458.19 1529.87 Q1458.19 1536.98 1460 1540.55 Q1461.83 1544.09 1465.44 1544.09 Q1469.07 1544.09 1470.88 1540.55 Q1472.71 1536.98 1472.71 1529.87 Q1472.71 1522.75 1470.88 1519.2 Q1469.07 1515.64 1465.44 1515.64 M1465.44 1511.93 Q1471.25 1511.93 1474.3 1516.54 Q1477.38 1521.12 1477.38 1529.87 Q1477.38 1538.6 1474.3 1543.21 Q1471.25 1547.79 1465.44 1547.79 Q1459.63 1547.79 1456.55 1543.21 Q1453.49 1538.6 1453.49 1529.87 Q1453.49 1521.12 1456.55 1516.54 Q1459.63 1511.93 1465.44 1511.93 Z\" fill=\"#000000\" fill-rule=\"evenodd\" fill-opacity=\"1\" /><path clip-path=\"url(#clip600)\" d=\"M 0 0 M1861.31 1516.63 L1849.5 1535.08 L1861.31 1535.08 L1861.31 1516.63 M1860.08 1512.56 L1865.96 1512.56 L1865.96 1535.08 L1870.89 1535.08 L1870.89 1538.97 L1865.96 1538.97 L1865.96 1547.12 L1861.31 1547.12 L1861.31 1538.97 L1845.71 1538.97 L1845.71 1534.46 L1860.08 1512.56 Z\" fill=\"#000000\" fill-rule=\"evenodd\" fill-opacity=\"1\" /><path clip-path=\"url(#clip600)\" d=\"M 0 0 M1885.96 1515.64 Q1882.35 1515.64 1880.52 1519.2 Q1878.72 1522.75 1878.72 1529.87 Q1878.72 1536.98 1880.52 1540.55 Q1882.35 1544.09 1885.96 1544.09 Q1889.6 1544.09 1891.4 1540.55 Q1893.23 1536.98 1893.23 1529.87 Q1893.23 1522.75 1891.4 1519.2 Q1889.6 1515.64 1885.96 1515.64 M1885.96 1511.93 Q1891.77 1511.93 1894.83 1516.54 Q1897.91 1521.12 1897.91 1529.87 Q1897.91 1538.6 1894.83 1543.21 Q1891.77 1547.79 1885.96 1547.79 Q1880.15 1547.79 1877.07 1543.21 Q1874.02 1538.6 1874.02 1529.87 Q1874.02 1521.12 1877.07 1516.54 Q1880.15 1511.93 1885.96 1511.93 Z\" fill=\"#000000\" fill-rule=\"evenodd\" fill-opacity=\"1\" /><path clip-path=\"url(#clip600)\" d=\"M 0 0 M2267.89 1512.56 L2286.24 1512.56 L2286.24 1516.5 L2272.17 1516.5 L2272.17 1524.97 Q2273.19 1524.62 2274.21 1524.46 Q2275.23 1524.27 2276.24 1524.27 Q2282.03 1524.27 2285.41 1527.44 Q2288.79 1530.62 2288.79 1536.03 Q2288.79 1541.61 2285.32 1544.71 Q2281.85 1547.79 2275.53 1547.79 Q2273.35 1547.79 2271.08 1547.42 Q2268.84 1547.05 2266.43 1546.31 L2266.43 1541.61 Q2268.51 1542.74 2270.74 1543.3 Q2272.96 1543.86 2275.43 1543.86 Q2279.44 1543.86 2281.78 1541.75 Q2284.12 1539.64 2284.12 1536.03 Q2284.12 1532.42 2281.78 1530.31 Q2279.44 1528.21 2275.43 1528.21 Q2273.56 1528.21 2271.68 1528.62 Q2269.83 1529.04 2267.89 1529.92 L2267.89 1512.56 Z\" fill=\"#000000\" fill-rule=\"evenodd\" fill-opacity=\"1\" /><path clip-path=\"url(#clip600)\" d=\"M 0 0 M2303.86 1515.64 Q2300.25 1515.64 2298.42 1519.2 Q2296.62 1522.75 2296.62 1529.87 Q2296.62 1536.98 2298.42 1540.55 Q2300.25 1544.09 2303.86 1544.09 Q2307.49 1544.09 2309.3 1540.55 Q2311.13 1536.98 2311.13 1529.87 Q2311.13 1522.75 2309.3 1519.2 Q2307.49 1515.64 2303.86 1515.64 M2303.86 1511.93 Q2309.67 1511.93 2312.73 1516.54 Q2315.8 1521.12 2315.8 1529.87 Q2315.8 1538.6 2312.73 1543.21 Q2309.67 1547.79 2303.86 1547.79 Q2298.05 1547.79 2294.97 1543.21 Q2291.92 1538.6 2291.92 1529.87 Q2291.92 1521.12 2294.97 1516.54 Q2298.05 1511.93 2303.86 1511.93 Z\" fill=\"#000000\" fill-rule=\"evenodd\" fill-opacity=\"1\" /><polyline clip-path=\"url(#clip602)\" style=\"stroke:#000000; stroke-width:2; stroke-opacity:0.1; fill:none\" points=\"\n",
       "  174.862,1445.72 2352.76,1445.72 \n",
       "  \"/>\n",
       "<polyline clip-path=\"url(#clip602)\" style=\"stroke:#000000; stroke-width:2; stroke-opacity:0.1; fill:none\" points=\"\n",
       "  174.862,1106.28 2352.76,1106.28 \n",
       "  \"/>\n",
       "<polyline clip-path=\"url(#clip602)\" style=\"stroke:#000000; stroke-width:2; stroke-opacity:0.1; fill:none\" points=\"\n",
       "  174.862,766.846 2352.76,766.846 \n",
       "  \"/>\n",
       "<polyline clip-path=\"url(#clip602)\" style=\"stroke:#000000; stroke-width:2; stroke-opacity:0.1; fill:none\" points=\"\n",
       "  174.862,427.411 2352.76,427.411 \n",
       "  \"/>\n",
       "<polyline clip-path=\"url(#clip602)\" style=\"stroke:#000000; stroke-width:2; stroke-opacity:0.1; fill:none\" points=\"\n",
       "  174.862,87.9763 2352.76,87.9763 \n",
       "  \"/>\n",
       "<polyline clip-path=\"url(#clip600)\" style=\"stroke:#000000; stroke-width:4; stroke-opacity:1; fill:none\" points=\"\n",
       "  174.862,1486.45 174.862,47.2441 \n",
       "  \"/>\n",
       "<polyline clip-path=\"url(#clip600)\" style=\"stroke:#000000; stroke-width:4; stroke-opacity:1; fill:none\" points=\"\n",
       "  174.862,1445.72 200.997,1445.72 \n",
       "  \"/>\n",
       "<polyline clip-path=\"url(#clip600)\" style=\"stroke:#000000; stroke-width:4; stroke-opacity:1; fill:none\" points=\"\n",
       "  174.862,1106.28 200.997,1106.28 \n",
       "  \"/>\n",
       "<polyline clip-path=\"url(#clip600)\" style=\"stroke:#000000; stroke-width:4; stroke-opacity:1; fill:none\" points=\"\n",
       "  174.862,766.846 200.997,766.846 \n",
       "  \"/>\n",
       "<polyline clip-path=\"url(#clip600)\" style=\"stroke:#000000; stroke-width:4; stroke-opacity:1; fill:none\" points=\"\n",
       "  174.862,427.411 200.997,427.411 \n",
       "  \"/>\n",
       "<polyline clip-path=\"url(#clip600)\" style=\"stroke:#000000; stroke-width:4; stroke-opacity:1; fill:none\" points=\"\n",
       "  174.862,87.9763 200.997,87.9763 \n",
       "  \"/>\n",
       "<path clip-path=\"url(#clip600)\" d=\"M 0 0 M62.9365 1431.51 Q59.3254 1431.51 57.4967 1435.08 Q55.6912 1438.62 55.6912 1445.75 Q55.6912 1452.86 57.4967 1456.42 Q59.3254 1459.96 62.9365 1459.96 Q66.5707 1459.96 68.3763 1456.42 Q70.205 1452.86 70.205 1445.75 Q70.205 1438.62 68.3763 1435.08 Q66.5707 1431.51 62.9365 1431.51 M62.9365 1427.81 Q68.7467 1427.81 71.8022 1432.42 Q74.8809 1437 74.8809 1445.75 Q74.8809 1454.48 71.8022 1459.08 Q68.7467 1463.67 62.9365 1463.67 Q57.1264 1463.67 54.0477 1459.08 Q50.9921 1454.48 50.9921 1445.75 Q50.9921 1437 54.0477 1432.42 Q57.1264 1427.81 62.9365 1427.81 Z\" fill=\"#000000\" fill-rule=\"evenodd\" fill-opacity=\"1\" /><path clip-path=\"url(#clip600)\" d=\"M 0 0 M79.9503 1457.12 L84.8345 1457.12 L84.8345 1463 L79.9503 1463 L79.9503 1457.12 Z\" fill=\"#000000\" fill-rule=\"evenodd\" fill-opacity=\"1\" /><path clip-path=\"url(#clip600)\" d=\"M 0 0 M99.9039 1431.51 Q96.2928 1431.51 94.4641 1435.08 Q92.6586 1438.62 92.6586 1445.75 Q92.6586 1452.86 94.4641 1456.42 Q96.2928 1459.96 99.9039 1459.96 Q103.538 1459.96 105.344 1456.42 Q107.172 1452.86 107.172 1445.75 Q107.172 1438.62 105.344 1435.08 Q103.538 1431.51 99.9039 1431.51 M99.9039 1427.81 Q105.714 1427.81 108.77 1432.42 Q111.848 1437 111.848 1445.75 Q111.848 1454.48 108.77 1459.08 Q105.714 1463.67 99.9039 1463.67 Q94.0937 1463.67 91.0151 1459.08 Q87.9595 1454.48 87.9595 1445.75 Q87.9595 1437 91.0151 1432.42 Q94.0937 1427.81 99.9039 1427.81 Z\" fill=\"#000000\" fill-rule=\"evenodd\" fill-opacity=\"1\" /><path clip-path=\"url(#clip600)\" d=\"M 0 0 M126.918 1431.51 Q123.307 1431.51 121.478 1435.08 Q119.672 1438.62 119.672 1445.75 Q119.672 1452.86 121.478 1456.42 Q123.307 1459.96 126.918 1459.96 Q130.552 1459.96 132.357 1456.42 Q134.186 1452.86 134.186 1445.75 Q134.186 1438.62 132.357 1435.08 Q130.552 1431.51 126.918 1431.51 M126.918 1427.81 Q132.728 1427.81 135.783 1432.42 Q138.862 1437 138.862 1445.75 Q138.862 1454.48 135.783 1459.08 Q132.728 1463.67 126.918 1463.67 Q121.107 1463.67 118.029 1459.08 Q114.973 1454.48 114.973 1445.75 Q114.973 1437 118.029 1432.42 Q121.107 1427.81 126.918 1427.81 Z\" fill=\"#000000\" fill-rule=\"evenodd\" fill-opacity=\"1\" /><path clip-path=\"url(#clip600)\" d=\"M 0 0 M65.5291 1092.08 Q61.918 1092.08 60.0893 1095.64 Q58.2838 1099.19 58.2838 1106.32 Q58.2838 1113.42 60.0893 1116.99 Q61.918 1120.53 65.5291 1120.53 Q69.1633 1120.53 70.9689 1116.99 Q72.7976 1113.42 72.7976 1106.32 Q72.7976 1099.19 70.9689 1095.64 Q69.1633 1092.08 65.5291 1092.08 M65.5291 1088.38 Q71.3392 1088.38 74.3948 1092.98 Q77.4735 1097.57 77.4735 1106.32 Q77.4735 1115.04 74.3948 1119.65 Q71.3392 1124.23 65.5291 1124.23 Q59.7189 1124.23 56.6402 1119.65 Q53.5847 1115.04 53.5847 1106.32 Q53.5847 1097.57 56.6402 1092.98 Q59.7189 1088.38 65.5291 1088.38 Z\" fill=\"#000000\" fill-rule=\"evenodd\" fill-opacity=\"1\" /><path clip-path=\"url(#clip600)\" d=\"M 0 0 M82.5429 1117.68 L87.4271 1117.68 L87.4271 1123.56 L82.5429 1123.56 L82.5429 1117.68 Z\" fill=\"#000000\" fill-rule=\"evenodd\" fill-opacity=\"1\" /><path clip-path=\"url(#clip600)\" d=\"M 0 0 M96.5243 1119.63 L112.844 1119.63 L112.844 1123.56 L90.8993 1123.56 L90.8993 1119.63 Q93.5613 1116.87 98.1447 1112.24 Q102.751 1107.59 103.932 1106.25 Q106.177 1103.72 107.057 1101.99 Q107.959 1100.23 107.959 1098.54 Q107.959 1095.78 106.015 1094.05 Q104.094 1092.31 100.992 1092.31 Q98.7928 1092.31 96.3391 1093.07 Q93.9086 1093.84 91.1308 1095.39 L91.1308 1090.67 Q93.9549 1089.53 96.4085 1088.95 Q98.8622 1088.38 100.899 1088.38 Q106.27 1088.38 109.464 1091.06 Q112.658 1093.75 112.658 1098.24 Q112.658 1100.37 111.848 1102.29 Q111.061 1104.19 108.955 1106.78 Q108.376 1107.45 105.274 1110.67 Q102.172 1113.86 96.5243 1119.63 Z\" fill=\"#000000\" fill-rule=\"evenodd\" fill-opacity=\"1\" /><path clip-path=\"url(#clip600)\" d=\"M 0 0 M117.959 1089 L136.316 1089 L136.316 1092.94 L122.242 1092.94 L122.242 1101.41 Q123.26 1101.06 124.279 1100.9 Q125.297 1100.71 126.316 1100.71 Q132.103 1100.71 135.482 1103.89 Q138.862 1107.06 138.862 1112.47 Q138.862 1118.05 135.39 1121.15 Q131.918 1124.23 125.598 1124.23 Q123.422 1124.23 121.154 1123.86 Q118.908 1123.49 116.501 1122.75 L116.501 1118.05 Q118.584 1119.19 120.807 1119.74 Q123.029 1120.3 125.506 1120.3 Q129.51 1120.3 131.848 1118.19 Q134.186 1116.08 134.186 1112.47 Q134.186 1108.86 131.848 1106.76 Q129.51 1104.65 125.506 1104.65 Q123.631 1104.65 121.756 1105.07 Q119.904 1105.48 117.959 1106.36 L117.959 1089 Z\" fill=\"#000000\" fill-rule=\"evenodd\" fill-opacity=\"1\" /><path clip-path=\"url(#clip600)\" d=\"M 0 0 M63.9319 752.645 Q60.3208 752.645 58.4921 756.209 Q56.6865 759.751 56.6865 766.881 Q56.6865 773.987 58.4921 777.552 Q60.3208 781.094 63.9319 781.094 Q67.5661 781.094 69.3717 777.552 Q71.2004 773.987 71.2004 766.881 Q71.2004 759.751 69.3717 756.209 Q67.5661 752.645 63.9319 752.645 M63.9319 748.941 Q69.742 748.941 72.7976 753.547 Q75.8763 758.131 75.8763 766.881 Q75.8763 775.608 72.7976 780.214 Q69.742 784.797 63.9319 784.797 Q58.1217 784.797 55.043 780.214 Q51.9875 775.608 51.9875 766.881 Q51.9875 758.131 55.043 753.547 Q58.1217 748.941 63.9319 748.941 Z\" fill=\"#000000\" fill-rule=\"evenodd\" fill-opacity=\"1\" /><path clip-path=\"url(#clip600)\" d=\"M 0 0 M80.9457 778.246 L85.8299 778.246 L85.8299 784.126 L80.9457 784.126 L80.9457 778.246 Z\" fill=\"#000000\" fill-rule=\"evenodd\" fill-opacity=\"1\" /><path clip-path=\"url(#clip600)\" d=\"M 0 0 M90.9456 749.566 L109.302 749.566 L109.302 753.501 L95.228 753.501 L95.228 761.973 Q96.2465 761.626 97.265 761.464 Q98.2835 761.279 99.3021 761.279 Q105.089 761.279 108.469 764.45 Q111.848 767.621 111.848 773.038 Q111.848 778.617 108.376 781.719 Q104.904 784.797 98.5845 784.797 Q96.4085 784.797 94.14 784.427 Q91.8947 784.057 89.4873 783.316 L89.4873 778.617 Q91.5706 779.751 93.7928 780.307 Q96.015 780.862 98.4919 780.862 Q102.496 780.862 104.834 778.756 Q107.172 776.649 107.172 773.038 Q107.172 769.427 104.834 767.321 Q102.496 765.214 98.4919 765.214 Q96.6169 765.214 94.7419 765.631 Q92.89 766.047 90.9456 766.927 L90.9456 749.566 Z\" fill=\"#000000\" fill-rule=\"evenodd\" fill-opacity=\"1\" /><path clip-path=\"url(#clip600)\" d=\"M 0 0 M126.918 752.645 Q123.307 752.645 121.478 756.209 Q119.672 759.751 119.672 766.881 Q119.672 773.987 121.478 777.552 Q123.307 781.094 126.918 781.094 Q130.552 781.094 132.357 777.552 Q134.186 773.987 134.186 766.881 Q134.186 759.751 132.357 756.209 Q130.552 752.645 126.918 752.645 M126.918 748.941 Q132.728 748.941 135.783 753.547 Q138.862 758.131 138.862 766.881 Q138.862 775.608 135.783 780.214 Q132.728 784.797 126.918 784.797 Q121.107 784.797 118.029 780.214 Q114.973 775.608 114.973 766.881 Q114.973 758.131 118.029 753.547 Q121.107 748.941 126.918 748.941 Z\" fill=\"#000000\" fill-rule=\"evenodd\" fill-opacity=\"1\" /><path clip-path=\"url(#clip600)\" d=\"M 0 0 M64.8346 413.21 Q61.2236 413.21 59.3949 416.775 Q57.5893 420.316 57.5893 427.446 Q57.5893 434.552 59.3949 438.117 Q61.2236 441.659 64.8346 441.659 Q68.4689 441.659 70.2744 438.117 Q72.1031 434.552 72.1031 427.446 Q72.1031 420.316 70.2744 416.775 Q68.4689 413.21 64.8346 413.21 M64.8346 409.506 Q70.6448 409.506 73.7003 414.113 Q76.779 418.696 76.779 427.446 Q76.779 436.173 73.7003 440.779 Q70.6448 445.362 64.8346 445.362 Q59.0245 445.362 55.9458 440.779 Q52.8903 436.173 52.8903 427.446 Q52.8903 418.696 55.9458 414.113 Q59.0245 409.506 64.8346 409.506 Z\" fill=\"#000000\" fill-rule=\"evenodd\" fill-opacity=\"1\" /><path clip-path=\"url(#clip600)\" d=\"M 0 0 M81.8484 438.812 L86.7327 438.812 L86.7327 444.691 L81.8484 444.691 L81.8484 438.812 Z\" fill=\"#000000\" fill-rule=\"evenodd\" fill-opacity=\"1\" /><path clip-path=\"url(#clip600)\" d=\"M 0 0 M90.6215 410.131 L112.844 410.131 L112.844 412.122 L100.297 444.691 L95.4132 444.691 L107.219 414.066 L90.6215 414.066 L90.6215 410.131 Z\" fill=\"#000000\" fill-rule=\"evenodd\" fill-opacity=\"1\" /><path clip-path=\"url(#clip600)\" d=\"M 0 0 M117.959 410.131 L136.316 410.131 L136.316 414.066 L122.242 414.066 L122.242 422.538 Q123.26 422.191 124.279 422.029 Q125.297 421.844 126.316 421.844 Q132.103 421.844 135.482 425.015 Q138.862 428.187 138.862 433.603 Q138.862 439.182 135.39 442.284 Q131.918 445.362 125.598 445.362 Q123.422 445.362 121.154 444.992 Q118.908 444.622 116.501 443.881 L116.501 439.182 Q118.584 440.316 120.807 440.872 Q123.029 441.427 125.506 441.427 Q129.51 441.427 131.848 439.321 Q134.186 437.214 134.186 433.603 Q134.186 429.992 131.848 427.886 Q129.51 425.779 125.506 425.779 Q123.631 425.779 121.756 426.196 Q119.904 426.613 117.959 427.492 L117.959 410.131 Z\" fill=\"#000000\" fill-rule=\"evenodd\" fill-opacity=\"1\" /><path clip-path=\"url(#clip600)\" d=\"M 0 0 M54.9736 101.321 L62.6124 101.321 L62.6124 74.9555 L54.3023 76.6222 L54.3023 72.3629 L62.5661 70.6963 L67.242 70.6963 L67.242 101.321 L74.8809 101.321 L74.8809 105.256 L54.9736 105.256 L54.9736 101.321 Z\" fill=\"#000000\" fill-rule=\"evenodd\" fill-opacity=\"1\" /><path clip-path=\"url(#clip600)\" d=\"M 0 0 M79.9503 99.3767 L84.8345 99.3767 L84.8345 105.256 L79.9503 105.256 L79.9503 99.3767 Z\" fill=\"#000000\" fill-rule=\"evenodd\" fill-opacity=\"1\" /><path clip-path=\"url(#clip600)\" d=\"M 0 0 M99.9039 73.775 Q96.2928 73.775 94.4641 77.3398 Q92.6586 80.8814 92.6586 88.011 Q92.6586 95.1174 94.4641 98.6822 Q96.2928 102.224 99.9039 102.224 Q103.538 102.224 105.344 98.6822 Q107.172 95.1174 107.172 88.011 Q107.172 80.8814 105.344 77.3398 Q103.538 73.775 99.9039 73.775 M99.9039 70.0713 Q105.714 70.0713 108.77 74.6777 Q111.848 79.261 111.848 88.011 Q111.848 96.7378 108.77 101.344 Q105.714 105.928 99.9039 105.928 Q94.0937 105.928 91.0151 101.344 Q87.9595 96.7378 87.9595 88.011 Q87.9595 79.261 91.0151 74.6777 Q94.0937 70.0713 99.9039 70.0713 Z\" fill=\"#000000\" fill-rule=\"evenodd\" fill-opacity=\"1\" /><path clip-path=\"url(#clip600)\" d=\"M 0 0 M126.918 73.775 Q123.307 73.775 121.478 77.3398 Q119.672 80.8814 119.672 88.011 Q119.672 95.1174 121.478 98.6822 Q123.307 102.224 126.918 102.224 Q130.552 102.224 132.357 98.6822 Q134.186 95.1174 134.186 88.011 Q134.186 80.8814 132.357 77.3398 Q130.552 73.775 126.918 73.775 M126.918 70.0713 Q132.728 70.0713 135.783 74.6777 Q138.862 79.261 138.862 88.011 Q138.862 96.7378 135.783 101.344 Q132.728 105.928 126.918 105.928 Q121.107 105.928 118.029 101.344 Q114.973 96.7378 114.973 88.011 Q114.973 79.261 118.029 74.6777 Q121.107 70.0713 126.918 70.0713 Z\" fill=\"#000000\" fill-rule=\"evenodd\" fill-opacity=\"1\" /><circle clip-path=\"url(#clip602)\" cx=\"236.501\" cy=\"1445.72\" r=\"14\" fill=\"#009af9\" fill-rule=\"evenodd\" fill-opacity=\"1\" stroke=\"#000000\" stroke-opacity=\"1\" stroke-width=\"3.2\"/>\n",
       "<circle clip-path=\"url(#clip602)\" cx=\"278.431\" cy=\"1445.72\" r=\"14\" fill=\"#009af9\" fill-rule=\"evenodd\" fill-opacity=\"1\" stroke=\"#000000\" stroke-opacity=\"1\" stroke-width=\"3.2\"/>\n",
       "<circle clip-path=\"url(#clip602)\" cx=\"320.362\" cy=\"1445.72\" r=\"14\" fill=\"#009af9\" fill-rule=\"evenodd\" fill-opacity=\"1\" stroke=\"#000000\" stroke-opacity=\"1\" stroke-width=\"3.2\"/>\n",
       "<circle clip-path=\"url(#clip602)\" cx=\"362.293\" cy=\"1445.72\" r=\"14\" fill=\"#009af9\" fill-rule=\"evenodd\" fill-opacity=\"1\" stroke=\"#000000\" stroke-opacity=\"1\" stroke-width=\"3.2\"/>\n",
       "<circle clip-path=\"url(#clip602)\" cx=\"404.224\" cy=\"1445.72\" r=\"14\" fill=\"#009af9\" fill-rule=\"evenodd\" fill-opacity=\"1\" stroke=\"#000000\" stroke-opacity=\"1\" stroke-width=\"3.2\"/>\n",
       "<circle clip-path=\"url(#clip602)\" cx=\"446.155\" cy=\"1445.72\" r=\"14\" fill=\"#009af9\" fill-rule=\"evenodd\" fill-opacity=\"1\" stroke=\"#000000\" stroke-opacity=\"1\" stroke-width=\"3.2\"/>\n",
       "<circle clip-path=\"url(#clip602)\" cx=\"488.086\" cy=\"1445.72\" r=\"14\" fill=\"#009af9\" fill-rule=\"evenodd\" fill-opacity=\"1\" stroke=\"#000000\" stroke-opacity=\"1\" stroke-width=\"3.2\"/>\n",
       "<circle clip-path=\"url(#clip602)\" cx=\"530.017\" cy=\"1445.72\" r=\"14\" fill=\"#009af9\" fill-rule=\"evenodd\" fill-opacity=\"1\" stroke=\"#000000\" stroke-opacity=\"1\" stroke-width=\"3.2\"/>\n",
       "<circle clip-path=\"url(#clip602)\" cx=\"571.948\" cy=\"1445.72\" r=\"14\" fill=\"#009af9\" fill-rule=\"evenodd\" fill-opacity=\"1\" stroke=\"#000000\" stroke-opacity=\"1\" stroke-width=\"3.2\"/>\n",
       "<circle clip-path=\"url(#clip602)\" cx=\"613.879\" cy=\"1445.72\" r=\"14\" fill=\"#009af9\" fill-rule=\"evenodd\" fill-opacity=\"1\" stroke=\"#000000\" stroke-opacity=\"1\" stroke-width=\"3.2\"/>\n",
       "<circle clip-path=\"url(#clip602)\" cx=\"655.81\" cy=\"1445.72\" r=\"14\" fill=\"#009af9\" fill-rule=\"evenodd\" fill-opacity=\"1\" stroke=\"#000000\" stroke-opacity=\"1\" stroke-width=\"3.2\"/>\n",
       "<circle clip-path=\"url(#clip602)\" cx=\"697.741\" cy=\"1445.72\" r=\"14\" fill=\"#009af9\" fill-rule=\"evenodd\" fill-opacity=\"1\" stroke=\"#000000\" stroke-opacity=\"1\" stroke-width=\"3.2\"/>\n",
       "<circle clip-path=\"url(#clip602)\" cx=\"739.672\" cy=\"1445.72\" r=\"14\" fill=\"#009af9\" fill-rule=\"evenodd\" fill-opacity=\"1\" stroke=\"#000000\" stroke-opacity=\"1\" stroke-width=\"3.2\"/>\n",
       "<circle clip-path=\"url(#clip602)\" cx=\"781.603\" cy=\"1445.72\" r=\"14\" fill=\"#009af9\" fill-rule=\"evenodd\" fill-opacity=\"1\" stroke=\"#000000\" stroke-opacity=\"1\" stroke-width=\"3.2\"/>\n",
       "<circle clip-path=\"url(#clip602)\" cx=\"823.534\" cy=\"1445.72\" r=\"14\" fill=\"#009af9\" fill-rule=\"evenodd\" fill-opacity=\"1\" stroke=\"#000000\" stroke-opacity=\"1\" stroke-width=\"3.2\"/>\n",
       "<circle clip-path=\"url(#clip602)\" cx=\"865.465\" cy=\"1445.72\" r=\"14\" fill=\"#009af9\" fill-rule=\"evenodd\" fill-opacity=\"1\" stroke=\"#000000\" stroke-opacity=\"1\" stroke-width=\"3.2\"/>\n",
       "<circle clip-path=\"url(#clip602)\" cx=\"907.396\" cy=\"1445.72\" r=\"14\" fill=\"#009af9\" fill-rule=\"evenodd\" fill-opacity=\"1\" stroke=\"#000000\" stroke-opacity=\"1\" stroke-width=\"3.2\"/>\n",
       "<circle clip-path=\"url(#clip602)\" cx=\"949.327\" cy=\"1445.72\" r=\"14\" fill=\"#009af9\" fill-rule=\"evenodd\" fill-opacity=\"1\" stroke=\"#000000\" stroke-opacity=\"1\" stroke-width=\"3.2\"/>\n",
       "<circle clip-path=\"url(#clip602)\" cx=\"991.258\" cy=\"87.9763\" r=\"14\" fill=\"#009af9\" fill-rule=\"evenodd\" fill-opacity=\"1\" stroke=\"#000000\" stroke-opacity=\"1\" stroke-width=\"3.2\"/>\n",
       "<circle clip-path=\"url(#clip602)\" cx=\"1033.19\" cy=\"87.9763\" r=\"14\" fill=\"#009af9\" fill-rule=\"evenodd\" fill-opacity=\"1\" stroke=\"#000000\" stroke-opacity=\"1\" stroke-width=\"3.2\"/>\n",
       "<circle clip-path=\"url(#clip602)\" cx=\"1075.12\" cy=\"87.9763\" r=\"14\" fill=\"#009af9\" fill-rule=\"evenodd\" fill-opacity=\"1\" stroke=\"#000000\" stroke-opacity=\"1\" stroke-width=\"3.2\"/>\n",
       "<circle clip-path=\"url(#clip602)\" cx=\"1117.05\" cy=\"87.9763\" r=\"14\" fill=\"#009af9\" fill-rule=\"evenodd\" fill-opacity=\"1\" stroke=\"#000000\" stroke-opacity=\"1\" stroke-width=\"3.2\"/>\n",
       "<circle clip-path=\"url(#clip602)\" cx=\"1158.98\" cy=\"87.9763\" r=\"14\" fill=\"#009af9\" fill-rule=\"evenodd\" fill-opacity=\"1\" stroke=\"#000000\" stroke-opacity=\"1\" stroke-width=\"3.2\"/>\n",
       "<circle clip-path=\"url(#clip602)\" cx=\"1200.91\" cy=\"87.9763\" r=\"14\" fill=\"#009af9\" fill-rule=\"evenodd\" fill-opacity=\"1\" stroke=\"#000000\" stroke-opacity=\"1\" stroke-width=\"3.2\"/>\n",
       "<circle clip-path=\"url(#clip602)\" cx=\"1242.84\" cy=\"87.9763\" r=\"14\" fill=\"#009af9\" fill-rule=\"evenodd\" fill-opacity=\"1\" stroke=\"#000000\" stroke-opacity=\"1\" stroke-width=\"3.2\"/>\n",
       "<circle clip-path=\"url(#clip602)\" cx=\"1284.77\" cy=\"87.9763\" r=\"14\" fill=\"#009af9\" fill-rule=\"evenodd\" fill-opacity=\"1\" stroke=\"#000000\" stroke-opacity=\"1\" stroke-width=\"3.2\"/>\n",
       "<circle clip-path=\"url(#clip602)\" cx=\"1326.71\" cy=\"87.9763\" r=\"14\" fill=\"#009af9\" fill-rule=\"evenodd\" fill-opacity=\"1\" stroke=\"#000000\" stroke-opacity=\"1\" stroke-width=\"3.2\"/>\n",
       "<circle clip-path=\"url(#clip602)\" cx=\"1368.64\" cy=\"87.9763\" r=\"14\" fill=\"#009af9\" fill-rule=\"evenodd\" fill-opacity=\"1\" stroke=\"#000000\" stroke-opacity=\"1\" stroke-width=\"3.2\"/>\n",
       "<circle clip-path=\"url(#clip602)\" cx=\"1410.57\" cy=\"87.9763\" r=\"14\" fill=\"#009af9\" fill-rule=\"evenodd\" fill-opacity=\"1\" stroke=\"#000000\" stroke-opacity=\"1\" stroke-width=\"3.2\"/>\n",
       "<circle clip-path=\"url(#clip602)\" cx=\"1452.5\" cy=\"87.9763\" r=\"14\" fill=\"#009af9\" fill-rule=\"evenodd\" fill-opacity=\"1\" stroke=\"#000000\" stroke-opacity=\"1\" stroke-width=\"3.2\"/>\n",
       "<circle clip-path=\"url(#clip602)\" cx=\"1494.43\" cy=\"87.9763\" r=\"14\" fill=\"#009af9\" fill-rule=\"evenodd\" fill-opacity=\"1\" stroke=\"#000000\" stroke-opacity=\"1\" stroke-width=\"3.2\"/>\n",
       "<circle clip-path=\"url(#clip602)\" cx=\"1536.36\" cy=\"87.9763\" r=\"14\" fill=\"#009af9\" fill-rule=\"evenodd\" fill-opacity=\"1\" stroke=\"#000000\" stroke-opacity=\"1\" stroke-width=\"3.2\"/>\n",
       "<circle clip-path=\"url(#clip602)\" cx=\"1578.29\" cy=\"87.9763\" r=\"14\" fill=\"#009af9\" fill-rule=\"evenodd\" fill-opacity=\"1\" stroke=\"#000000\" stroke-opacity=\"1\" stroke-width=\"3.2\"/>\n",
       "<circle clip-path=\"url(#clip602)\" cx=\"1620.22\" cy=\"87.9763\" r=\"14\" fill=\"#009af9\" fill-rule=\"evenodd\" fill-opacity=\"1\" stroke=\"#000000\" stroke-opacity=\"1\" stroke-width=\"3.2\"/>\n",
       "<circle clip-path=\"url(#clip602)\" cx=\"1662.15\" cy=\"87.9763\" r=\"14\" fill=\"#009af9\" fill-rule=\"evenodd\" fill-opacity=\"1\" stroke=\"#000000\" stroke-opacity=\"1\" stroke-width=\"3.2\"/>\n",
       "<circle clip-path=\"url(#clip602)\" cx=\"1704.08\" cy=\"87.9763\" r=\"14\" fill=\"#009af9\" fill-rule=\"evenodd\" fill-opacity=\"1\" stroke=\"#000000\" stroke-opacity=\"1\" stroke-width=\"3.2\"/>\n",
       "<circle clip-path=\"url(#clip602)\" cx=\"1746.01\" cy=\"87.9763\" r=\"14\" fill=\"#009af9\" fill-rule=\"evenodd\" fill-opacity=\"1\" stroke=\"#000000\" stroke-opacity=\"1\" stroke-width=\"3.2\"/>\n",
       "<circle clip-path=\"url(#clip602)\" cx=\"1787.95\" cy=\"87.9763\" r=\"14\" fill=\"#009af9\" fill-rule=\"evenodd\" fill-opacity=\"1\" stroke=\"#000000\" stroke-opacity=\"1\" stroke-width=\"3.2\"/>\n",
       "<circle clip-path=\"url(#clip602)\" cx=\"1829.88\" cy=\"87.9763\" r=\"14\" fill=\"#009af9\" fill-rule=\"evenodd\" fill-opacity=\"1\" stroke=\"#000000\" stroke-opacity=\"1\" stroke-width=\"3.2\"/>\n",
       "<circle clip-path=\"url(#clip602)\" cx=\"1871.81\" cy=\"87.9763\" r=\"14\" fill=\"#009af9\" fill-rule=\"evenodd\" fill-opacity=\"1\" stroke=\"#000000\" stroke-opacity=\"1\" stroke-width=\"3.2\"/>\n",
       "<circle clip-path=\"url(#clip602)\" cx=\"1913.74\" cy=\"87.9763\" r=\"14\" fill=\"#009af9\" fill-rule=\"evenodd\" fill-opacity=\"1\" stroke=\"#000000\" stroke-opacity=\"1\" stroke-width=\"3.2\"/>\n",
       "<circle clip-path=\"url(#clip602)\" cx=\"1955.67\" cy=\"87.9763\" r=\"14\" fill=\"#009af9\" fill-rule=\"evenodd\" fill-opacity=\"1\" stroke=\"#000000\" stroke-opacity=\"1\" stroke-width=\"3.2\"/>\n",
       "<circle clip-path=\"url(#clip602)\" cx=\"1997.6\" cy=\"87.9763\" r=\"14\" fill=\"#009af9\" fill-rule=\"evenodd\" fill-opacity=\"1\" stroke=\"#000000\" stroke-opacity=\"1\" stroke-width=\"3.2\"/>\n",
       "<circle clip-path=\"url(#clip602)\" cx=\"2039.53\" cy=\"87.9763\" r=\"14\" fill=\"#009af9\" fill-rule=\"evenodd\" fill-opacity=\"1\" stroke=\"#000000\" stroke-opacity=\"1\" stroke-width=\"3.2\"/>\n",
       "<circle clip-path=\"url(#clip602)\" cx=\"2081.46\" cy=\"87.9763\" r=\"14\" fill=\"#009af9\" fill-rule=\"evenodd\" fill-opacity=\"1\" stroke=\"#000000\" stroke-opacity=\"1\" stroke-width=\"3.2\"/>\n",
       "<circle clip-path=\"url(#clip602)\" cx=\"2123.39\" cy=\"87.9763\" r=\"14\" fill=\"#009af9\" fill-rule=\"evenodd\" fill-opacity=\"1\" stroke=\"#000000\" stroke-opacity=\"1\" stroke-width=\"3.2\"/>\n",
       "<circle clip-path=\"url(#clip602)\" cx=\"2165.32\" cy=\"87.9763\" r=\"14\" fill=\"#009af9\" fill-rule=\"evenodd\" fill-opacity=\"1\" stroke=\"#000000\" stroke-opacity=\"1\" stroke-width=\"3.2\"/>\n",
       "<circle clip-path=\"url(#clip602)\" cx=\"2207.26\" cy=\"87.9763\" r=\"14\" fill=\"#009af9\" fill-rule=\"evenodd\" fill-opacity=\"1\" stroke=\"#000000\" stroke-opacity=\"1\" stroke-width=\"3.2\"/>\n",
       "<circle clip-path=\"url(#clip602)\" cx=\"2249.19\" cy=\"87.9763\" r=\"14\" fill=\"#009af9\" fill-rule=\"evenodd\" fill-opacity=\"1\" stroke=\"#000000\" stroke-opacity=\"1\" stroke-width=\"3.2\"/>\n",
       "<circle clip-path=\"url(#clip602)\" cx=\"2291.12\" cy=\"87.9763\" r=\"14\" fill=\"#009af9\" fill-rule=\"evenodd\" fill-opacity=\"1\" stroke=\"#000000\" stroke-opacity=\"1\" stroke-width=\"3.2\"/>\n",
       "<polyline clip-path=\"url(#clip602)\" style=\"stroke:#e26f46; stroke-width:4; stroke-opacity:1; fill:none\" points=\"\n",
       "  236.501,1445.32 278.431,1445.07 320.362,1444.68 362.293,1444.06 404.224,1443.05 446.155,1441.43 488.086,1438.83 530.017,1434.68 571.948,1428.04 613.879,1417.5 \n",
       "  655.81,1400.89 697.741,1375.01 739.672,1335.46 781.603,1276.68 823.534,1192.91 865.465,1080.4 907.396,940.691 949.327,783.224 991.258,623.973 1033.19,479.634 \n",
       "  1075.12,361.239 1117.05,271.823 1158.98,208.416 1200.91,165.435 1242.84,137.182 1284.77,118.985 1326.71,107.417 1368.64,100.125 1410.57,95.5531 1452.5,92.6955 \n",
       "  1494.43,90.9133 1536.36,89.8032 1578.29,89.1124 1620.22,88.6826 1662.15,88.4154 1704.08,88.2492 1746.01,88.1459 1787.95,88.0817 1829.88,88.0418 1871.81,88.017 \n",
       "  1913.74,88.0016 1955.67,87.992 1997.6,87.9861 2039.53,87.9824 2081.46,87.9801 2123.39,87.9786 2165.32,87.9777 2207.26,87.9772 2249.19,87.9768 2291.12,87.9766 \n",
       "  \n",
       "  \"/>\n",
       "<path clip-path=\"url(#clip600)\" d=\"\n",
       "M1605.49 276.658 L2280.16 276.658 L2280.16 95.2176 L1605.49 95.2176  Z\n",
       "  \" fill=\"#ffffff\" fill-rule=\"evenodd\" fill-opacity=\"1\"/>\n",
       "<polyline clip-path=\"url(#clip600)\" style=\"stroke:#000000; stroke-width:4; stroke-opacity:1; fill:none\" points=\"\n",
       "  1605.49,276.658 2280.16,276.658 2280.16,95.2176 1605.49,95.2176 1605.49,276.658 \n",
       "  \"/>\n",
       "<circle clip-path=\"url(#clip600)\" cx=\"1702.28\" cy=\"155.698\" r=\"23\" fill=\"#009af9\" fill-rule=\"evenodd\" fill-opacity=\"1\" stroke=\"#000000\" stroke-opacity=\"1\" stroke-width=\"5.12\"/>\n",
       "<path clip-path=\"url(#clip600)\" d=\"M 0 0 M1817.99 150.987 L1817.99 136.959 L1822.25 136.959 L1822.25 172.978 L1817.99 172.978 L1817.99 169.089 Q1816.65 171.403 1814.59 172.538 Q1812.55 173.649 1809.68 173.649 Q1804.98 173.649 1802.02 169.899 Q1799.08 166.149 1799.08 160.038 Q1799.08 153.927 1802.02 150.177 Q1804.98 146.427 1809.68 146.427 Q1812.55 146.427 1814.59 147.561 Q1816.65 148.672 1817.99 150.987 M1803.48 160.038 Q1803.48 164.737 1805.4 167.422 Q1807.34 170.084 1810.72 170.084 Q1814.1 170.084 1816.05 167.422 Q1817.99 164.737 1817.99 160.038 Q1817.99 155.339 1816.05 152.677 Q1814.1 149.992 1810.72 149.992 Q1807.34 149.992 1805.4 152.677 Q1803.48 155.339 1803.48 160.038 Z\" fill=\"#000000\" fill-rule=\"evenodd\" fill-opacity=\"1\" /><path clip-path=\"url(#clip600)\" d=\"M 0 0 M1838.5 159.945 Q1833.34 159.945 1831.35 161.126 Q1829.36 162.306 1829.36 165.154 Q1829.36 167.422 1830.84 168.765 Q1832.34 170.084 1834.91 170.084 Q1838.45 170.084 1840.58 167.584 Q1842.74 165.061 1842.74 160.894 L1842.74 159.945 L1838.5 159.945 M1847 158.186 L1847 172.978 L1842.74 172.978 L1842.74 169.042 Q1841.28 171.403 1839.1 172.538 Q1836.93 173.649 1833.78 173.649 Q1829.8 173.649 1827.44 171.427 Q1825.1 169.181 1825.1 165.431 Q1825.1 161.056 1828.01 158.834 Q1830.95 156.612 1836.76 156.612 L1842.74 156.612 L1842.74 156.195 Q1842.74 153.255 1840.79 151.658 Q1838.87 150.038 1835.38 150.038 Q1833.15 150.038 1831.05 150.57 Q1828.94 151.103 1827 152.167 L1827 148.232 Q1829.33 147.33 1831.53 146.89 Q1833.73 146.427 1835.81 146.427 Q1841.44 146.427 1844.22 149.343 Q1847 152.26 1847 158.186 Z\" fill=\"#000000\" fill-rule=\"evenodd\" fill-opacity=\"1\" /><path clip-path=\"url(#clip600)\" d=\"M 0 0 M1855.68 139.691 L1855.68 147.052 L1864.45 147.052 L1864.45 150.362 L1855.68 150.362 L1855.68 164.436 Q1855.68 167.607 1856.53 168.51 Q1857.41 169.413 1860.07 169.413 L1864.45 169.413 L1864.45 172.978 L1860.07 172.978 Q1855.14 172.978 1853.27 171.149 Q1851.39 169.297 1851.39 164.436 L1851.39 150.362 L1848.27 150.362 L1848.27 147.052 L1851.39 147.052 L1851.39 139.691 L1855.68 139.691 Z\" fill=\"#000000\" fill-rule=\"evenodd\" fill-opacity=\"1\" /><path clip-path=\"url(#clip600)\" d=\"M 0 0 M1880.7 159.945 Q1875.54 159.945 1873.55 161.126 Q1871.56 162.306 1871.56 165.154 Q1871.56 167.422 1873.04 168.765 Q1874.54 170.084 1877.11 170.084 Q1880.65 170.084 1882.78 167.584 Q1884.93 165.061 1884.93 160.894 L1884.93 159.945 L1880.7 159.945 M1889.19 158.186 L1889.19 172.978 L1884.93 172.978 L1884.93 169.042 Q1883.48 171.403 1881.3 172.538 Q1879.12 173.649 1875.98 173.649 Q1872 173.649 1869.63 171.427 Q1867.3 169.181 1867.3 165.431 Q1867.3 161.056 1870.21 158.834 Q1873.15 156.612 1878.96 156.612 L1884.93 156.612 L1884.93 156.195 Q1884.93 153.255 1882.99 151.658 Q1881.07 150.038 1877.57 150.038 Q1875.35 150.038 1873.25 150.57 Q1871.14 151.103 1869.19 152.167 L1869.19 148.232 Q1871.53 147.33 1873.73 146.89 Q1875.93 146.427 1878.01 146.427 Q1883.64 146.427 1886.42 149.343 Q1889.19 152.26 1889.19 158.186 Z\" fill=\"#000000\" fill-rule=\"evenodd\" fill-opacity=\"1\" /><path clip-path=\"url(#clip600)\" d=\"M 0 0 M1912.85 169.089 L1912.85 182.839 L1908.57 182.839 L1908.57 147.052 L1912.85 147.052 L1912.85 150.987 Q1914.19 148.672 1916.23 147.561 Q1918.29 146.427 1921.14 146.427 Q1925.86 146.427 1928.8 150.177 Q1931.76 153.927 1931.76 160.038 Q1931.76 166.149 1928.8 169.899 Q1925.86 173.649 1921.14 173.649 Q1918.29 173.649 1916.23 172.538 Q1914.19 171.403 1912.85 169.089 M1927.34 160.038 Q1927.34 155.339 1925.4 152.677 Q1923.48 149.992 1920.1 149.992 Q1916.72 149.992 1914.77 152.677 Q1912.85 155.339 1912.85 160.038 Q1912.85 164.737 1914.77 167.422 Q1916.72 170.084 1920.1 170.084 Q1923.48 170.084 1925.4 167.422 Q1927.34 164.737 1927.34 160.038 Z\" fill=\"#000000\" fill-rule=\"evenodd\" fill-opacity=\"1\" /><path clip-path=\"url(#clip600)\" d=\"M 0 0 M1946.28 150.038 Q1942.85 150.038 1940.86 152.723 Q1938.87 155.385 1938.87 160.038 Q1938.87 164.691 1940.84 167.376 Q1942.83 170.038 1946.28 170.038 Q1949.68 170.038 1951.67 167.353 Q1953.66 164.667 1953.66 160.038 Q1953.66 155.431 1951.67 152.746 Q1949.68 150.038 1946.28 150.038 M1946.28 146.427 Q1951.83 146.427 1955 150.038 Q1958.18 153.649 1958.18 160.038 Q1958.18 166.404 1955 170.038 Q1951.83 173.649 1946.28 173.649 Q1940.7 173.649 1937.53 170.038 Q1934.38 166.404 1934.38 160.038 Q1934.38 153.649 1937.53 150.038 Q1940.7 146.427 1946.28 146.427 Z\" fill=\"#000000\" fill-rule=\"evenodd\" fill-opacity=\"1\" /><path clip-path=\"url(#clip600)\" d=\"M 0 0 M1962.64 147.052 L1966.9 147.052 L1966.9 172.978 L1962.64 172.978 L1962.64 147.052 M1962.64 136.959 L1966.9 136.959 L1966.9 142.353 L1962.64 142.353 L1962.64 136.959 Z\" fill=\"#000000\" fill-rule=\"evenodd\" fill-opacity=\"1\" /><path clip-path=\"url(#clip600)\" d=\"M 0 0 M1992.92 157.329 L1992.92 172.978 L1988.66 172.978 L1988.66 157.468 Q1988.66 153.788 1987.23 151.959 Q1985.79 150.13 1982.92 150.13 Q1979.47 150.13 1977.48 152.33 Q1975.49 154.529 1975.49 158.325 L1975.49 172.978 L1971.21 172.978 L1971.21 147.052 L1975.49 147.052 L1975.49 151.08 Q1977.02 148.742 1979.08 147.584 Q1981.16 146.427 1983.87 146.427 Q1988.34 146.427 1990.63 149.205 Q1992.92 151.959 1992.92 157.329 Z\" fill=\"#000000\" fill-rule=\"evenodd\" fill-opacity=\"1\" /><path clip-path=\"url(#clip600)\" d=\"M 0 0 M2001.6 139.691 L2001.6 147.052 L2010.37 147.052 L2010.37 150.362 L2001.6 150.362 L2001.6 164.436 Q2001.6 167.607 2002.46 168.51 Q2003.34 169.413 2006 169.413 L2010.37 169.413 L2010.37 172.978 L2006 172.978 Q2001.07 172.978 1999.19 171.149 Q1997.32 169.297 1997.32 164.436 L1997.32 150.362 L1994.19 150.362 L1994.19 147.052 L1997.32 147.052 L1997.32 139.691 L2001.6 139.691 Z\" fill=\"#000000\" fill-rule=\"evenodd\" fill-opacity=\"1\" /><path clip-path=\"url(#clip600)\" d=\"M 0 0 M2031.37 147.816 L2031.37 151.843 Q2029.56 150.917 2027.62 150.455 Q2025.67 149.992 2023.59 149.992 Q2020.42 149.992 2018.82 150.964 Q2017.25 151.936 2017.25 153.88 Q2017.25 155.362 2018.38 156.218 Q2019.52 157.052 2022.94 157.816 L2024.4 158.14 Q2028.94 159.112 2030.84 160.894 Q2032.76 162.654 2032.76 165.825 Q2032.76 169.436 2029.89 171.542 Q2027.04 173.649 2022.04 173.649 Q2019.96 173.649 2017.69 173.232 Q2015.44 172.839 2012.94 172.028 L2012.94 167.63 Q2015.3 168.857 2017.6 169.482 Q2019.89 170.084 2022.13 170.084 Q2025.14 170.084 2026.76 169.066 Q2028.38 168.024 2028.38 166.149 Q2028.38 164.413 2027.2 163.487 Q2026.05 162.561 2022.09 161.704 L2020.61 161.357 Q2016.65 160.524 2014.89 158.811 Q2013.13 157.075 2013.13 154.066 Q2013.13 150.408 2015.72 148.418 Q2018.31 146.427 2023.08 146.427 Q2025.44 146.427 2027.53 146.774 Q2029.61 147.121 2031.37 147.816 Z\" fill=\"#000000\" fill-rule=\"evenodd\" fill-opacity=\"1\" /><polyline clip-path=\"url(#clip600)\" style=\"stroke:#e26f46; stroke-width:4; stroke-opacity:1; fill:none\" points=\"\n",
       "  1629.69,216.178 1774.88,216.178 \n",
       "  \"/>\n",
       "<path clip-path=\"url(#clip600)\" d=\"M 0 0 M1799.08 197.439 L1803.34 197.439 L1803.34 233.458 L1799.08 233.458 L1799.08 197.439 Z\" fill=\"#000000\" fill-rule=\"evenodd\" fill-opacity=\"1\" /><path clip-path=\"url(#clip600)\" d=\"M 0 0 M1817.85 210.518 Q1814.43 210.518 1812.44 213.203 Q1810.44 215.865 1810.44 220.518 Q1810.44 225.171 1812.41 227.856 Q1814.4 230.518 1817.85 230.518 Q1821.25 230.518 1823.25 227.833 Q1825.24 225.147 1825.24 220.518 Q1825.24 215.911 1823.25 213.226 Q1821.25 210.518 1817.85 210.518 M1817.85 206.907 Q1823.41 206.907 1826.58 210.518 Q1829.75 214.129 1829.75 220.518 Q1829.75 226.884 1826.58 230.518 Q1823.41 234.129 1817.85 234.129 Q1812.27 234.129 1809.1 230.518 Q1805.95 226.884 1805.95 220.518 Q1805.95 214.129 1809.1 210.518 Q1812.27 206.907 1817.85 206.907 Z\" fill=\"#000000\" fill-rule=\"evenodd\" fill-opacity=\"1\" /><path clip-path=\"url(#clip600)\" d=\"M 0 0 M1851.28 220.194 Q1851.28 215.564 1849.36 213.018 Q1847.46 210.472 1844.01 210.472 Q1840.58 210.472 1838.66 213.018 Q1836.76 215.564 1836.76 220.194 Q1836.76 224.8 1838.66 227.346 Q1840.58 229.893 1844.01 229.893 Q1847.46 229.893 1849.36 227.346 Q1851.28 224.8 1851.28 220.194 M1855.54 230.24 Q1855.54 236.86 1852.6 240.078 Q1849.66 243.319 1843.59 243.319 Q1841.35 243.319 1839.36 242.971 Q1837.37 242.647 1835.49 241.953 L1835.49 237.809 Q1837.37 238.828 1839.19 239.314 Q1841.02 239.8 1842.92 239.8 Q1847.11 239.8 1849.19 237.601 Q1851.28 235.425 1851.28 231.004 L1851.28 228.897 Q1849.96 231.189 1847.9 232.323 Q1845.84 233.458 1842.97 233.458 Q1838.2 233.458 1835.28 229.823 Q1832.37 226.189 1832.37 220.194 Q1832.37 214.175 1835.28 210.541 Q1838.2 206.907 1842.97 206.907 Q1845.84 206.907 1847.9 208.041 Q1849.96 209.175 1851.28 211.467 L1851.28 207.532 L1855.54 207.532 L1855.54 230.24 Z\" fill=\"#000000\" fill-rule=\"evenodd\" fill-opacity=\"1\" /><path clip-path=\"url(#clip600)\" d=\"M 0 0 M1860 207.532 L1864.26 207.532 L1864.26 233.458 L1860 233.458 L1860 207.532 M1860 197.439 L1864.26 197.439 L1864.26 202.833 L1860 202.833 L1860 197.439 Z\" fill=\"#000000\" fill-rule=\"evenodd\" fill-opacity=\"1\" /><path clip-path=\"url(#clip600)\" d=\"M 0 0 M1885.26 208.296 L1885.26 212.323 Q1883.45 211.397 1881.51 210.935 Q1879.56 210.472 1877.48 210.472 Q1874.31 210.472 1872.71 211.444 Q1871.14 212.416 1871.14 214.36 Q1871.14 215.842 1872.27 216.698 Q1873.41 217.532 1876.83 218.296 L1878.29 218.62 Q1882.83 219.592 1884.73 221.374 Q1886.65 223.134 1886.65 226.305 Q1886.65 229.916 1883.78 232.022 Q1880.93 234.129 1875.93 234.129 Q1873.85 234.129 1871.58 233.712 Q1869.33 233.319 1866.83 232.508 L1866.83 228.11 Q1869.19 229.337 1871.49 229.962 Q1873.78 230.564 1876.02 230.564 Q1879.03 230.564 1880.65 229.546 Q1882.27 228.504 1882.27 226.629 Q1882.27 224.893 1881.09 223.967 Q1879.93 223.041 1875.98 222.184 L1874.5 221.837 Q1870.54 221.004 1868.78 219.291 Q1867.02 217.555 1867.02 214.546 Q1867.02 210.888 1869.61 208.898 Q1872.2 206.907 1876.97 206.907 Q1879.33 206.907 1881.42 207.254 Q1883.5 207.601 1885.26 208.296 Z\" fill=\"#000000\" fill-rule=\"evenodd\" fill-opacity=\"1\" /><path clip-path=\"url(#clip600)\" d=\"M 0 0 M1895.33 200.171 L1895.33 207.532 L1904.1 207.532 L1904.1 210.842 L1895.33 210.842 L1895.33 224.916 Q1895.33 228.087 1896.18 228.99 Q1897.06 229.893 1899.73 229.893 L1904.1 229.893 L1904.1 233.458 L1899.73 233.458 Q1894.8 233.458 1892.92 231.629 Q1891.05 229.777 1891.05 224.916 L1891.05 210.842 L1887.92 210.842 L1887.92 207.532 L1891.05 207.532 L1891.05 200.171 L1895.33 200.171 Z\" fill=\"#000000\" fill-rule=\"evenodd\" fill-opacity=\"1\" /><path clip-path=\"url(#clip600)\" d=\"M 0 0 M1908.57 207.532 L1912.83 207.532 L1912.83 233.458 L1908.57 233.458 L1908.57 207.532 M1908.57 197.439 L1912.83 197.439 L1912.83 202.833 L1908.57 202.833 L1908.57 197.439 Z\" fill=\"#000000\" fill-rule=\"evenodd\" fill-opacity=\"1\" /><path clip-path=\"url(#clip600)\" d=\"M 0 0 M1935.95 208.527 L1935.95 212.509 Q1934.15 211.513 1932.32 211.027 Q1930.51 210.518 1928.66 210.518 Q1924.52 210.518 1922.23 213.157 Q1919.93 215.772 1919.93 220.518 Q1919.93 225.263 1922.23 227.902 Q1924.52 230.518 1928.66 230.518 Q1930.51 230.518 1932.32 230.032 Q1934.15 229.522 1935.95 228.527 L1935.95 232.462 Q1934.17 233.296 1932.25 233.712 Q1930.35 234.129 1928.2 234.129 Q1922.34 234.129 1918.89 230.448 Q1915.44 226.768 1915.44 220.518 Q1915.44 214.175 1918.92 210.541 Q1922.41 206.907 1928.48 206.907 Q1930.44 206.907 1932.32 207.323 Q1934.19 207.717 1935.95 208.527 Z\" fill=\"#000000\" fill-rule=\"evenodd\" fill-opacity=\"1\" /><path clip-path=\"url(#clip600)\" d=\"M 0 0 M1970.51 211.513 Q1969.8 211.097 1968.94 210.911 Q1968.11 210.703 1967.09 210.703 Q1963.48 210.703 1961.53 213.064 Q1959.61 215.402 1959.61 219.8 L1959.61 233.458 L1955.33 233.458 L1955.33 207.532 L1959.61 207.532 L1959.61 211.56 Q1960.95 209.198 1963.11 208.064 Q1965.26 206.907 1968.34 206.907 Q1968.78 206.907 1969.31 206.976 Q1969.84 207.023 1970.49 207.138 L1970.51 211.513 Z\" fill=\"#000000\" fill-rule=\"evenodd\" fill-opacity=\"1\" /><path clip-path=\"url(#clip600)\" d=\"M 0 0 M1996.11 219.43 L1996.11 221.513 L1976.53 221.513 Q1976.81 225.911 1979.17 228.226 Q1981.55 230.518 1985.79 230.518 Q1988.24 230.518 1990.54 229.916 Q1992.85 229.314 1995.12 228.11 L1995.12 232.138 Q1992.83 233.11 1990.42 233.62 Q1988.01 234.129 1985.54 234.129 Q1979.33 234.129 1975.7 230.518 Q1972.09 226.907 1972.09 220.749 Q1972.09 214.384 1975.51 210.657 Q1978.96 206.907 1984.8 206.907 Q1990.03 206.907 1993.06 210.286 Q1996.11 213.643 1996.11 219.43 M1991.86 218.18 Q1991.81 214.685 1989.89 212.601 Q1987.99 210.518 1984.84 210.518 Q1981.28 210.518 1979.12 212.532 Q1976.99 214.546 1976.67 218.203 L1991.86 218.18 Z\" fill=\"#000000\" fill-rule=\"evenodd\" fill-opacity=\"1\" /><path clip-path=\"url(#clip600)\" d=\"M 0 0 M2017.64 220.194 Q2017.64 215.564 2015.72 213.018 Q2013.82 210.472 2010.37 210.472 Q2006.95 210.472 2005.03 213.018 Q2003.13 215.564 2003.13 220.194 Q2003.13 224.8 2005.03 227.346 Q2006.95 229.893 2010.37 229.893 Q2013.82 229.893 2015.72 227.346 Q2017.64 224.8 2017.64 220.194 M2021.9 230.24 Q2021.9 236.86 2018.96 240.078 Q2016.02 243.319 2009.96 243.319 Q2007.71 243.319 2005.72 242.971 Q2003.73 242.647 2001.86 241.953 L2001.86 237.809 Q2003.73 238.828 2005.56 239.314 Q2007.39 239.8 2009.29 239.8 Q2013.48 239.8 2015.56 237.601 Q2017.64 235.425 2017.64 231.004 L2017.64 228.897 Q2016.32 231.189 2014.26 232.323 Q2012.2 233.458 2009.33 233.458 Q2004.56 233.458 2001.65 229.823 Q1998.73 226.189 1998.73 220.194 Q1998.73 214.175 2001.65 210.541 Q2004.56 206.907 2009.33 206.907 Q2012.2 206.907 2014.26 208.041 Q2016.32 209.175 2017.64 211.467 L2017.64 207.532 L2021.9 207.532 L2021.9 230.24 Z\" fill=\"#000000\" fill-rule=\"evenodd\" fill-opacity=\"1\" /><path clip-path=\"url(#clip600)\" d=\"M 0 0 M2041.39 211.513 Q2040.67 211.097 2039.82 210.911 Q2038.99 210.703 2037.97 210.703 Q2034.36 210.703 2032.41 213.064 Q2030.49 215.402 2030.49 219.8 L2030.49 233.458 L2026.21 233.458 L2026.21 207.532 L2030.49 207.532 L2030.49 211.56 Q2031.83 209.198 2033.99 208.064 Q2036.14 206.907 2039.22 206.907 Q2039.66 206.907 2040.19 206.976 Q2040.72 207.023 2041.37 207.138 L2041.39 211.513 Z\" fill=\"#000000\" fill-rule=\"evenodd\" fill-opacity=\"1\" /><path clip-path=\"url(#clip600)\" d=\"M 0 0 M2066.99 219.43 L2066.99 221.513 L2047.41 221.513 Q2047.69 225.911 2050.05 228.226 Q2052.43 230.518 2056.67 230.518 Q2059.12 230.518 2061.42 229.916 Q2063.73 229.314 2066 228.11 L2066 232.138 Q2063.71 233.11 2061.3 233.62 Q2058.89 234.129 2056.42 234.129 Q2050.21 234.129 2046.58 230.518 Q2042.97 226.907 2042.97 220.749 Q2042.97 214.384 2046.39 210.657 Q2049.84 206.907 2055.67 206.907 Q2060.91 206.907 2063.94 210.286 Q2066.99 213.643 2066.99 219.43 M2062.73 218.18 Q2062.69 214.685 2060.77 212.601 Q2058.87 210.518 2055.72 210.518 Q2052.16 210.518 2050 212.532 Q2047.87 214.546 2047.55 218.203 L2062.73 218.18 Z\" fill=\"#000000\" fill-rule=\"evenodd\" fill-opacity=\"1\" /><path clip-path=\"url(#clip600)\" d=\"M 0 0 M2087.99 208.296 L2087.99 212.323 Q2086.18 211.397 2084.24 210.935 Q2082.3 210.472 2080.21 210.472 Q2077.04 210.472 2075.44 211.444 Q2073.87 212.416 2073.87 214.36 Q2073.87 215.842 2075 216.698 Q2076.14 217.532 2079.56 218.296 L2081.02 218.62 Q2085.56 219.592 2087.46 221.374 Q2089.38 223.134 2089.38 226.305 Q2089.38 229.916 2086.51 232.022 Q2083.66 234.129 2078.66 234.129 Q2076.58 234.129 2074.31 233.712 Q2072.06 233.319 2069.56 232.508 L2069.56 228.11 Q2071.92 229.337 2074.22 229.962 Q2076.51 230.564 2078.75 230.564 Q2081.76 230.564 2083.38 229.546 Q2085 228.504 2085 226.629 Q2085 224.893 2083.82 223.967 Q2082.67 223.041 2078.71 222.184 L2077.23 221.837 Q2073.27 221.004 2071.51 219.291 Q2069.75 217.555 2069.75 214.546 Q2069.75 210.888 2072.34 208.898 Q2074.93 206.907 2079.7 206.907 Q2082.06 206.907 2084.15 207.254 Q2086.23 207.601 2087.99 208.296 Z\" fill=\"#000000\" fill-rule=\"evenodd\" fill-opacity=\"1\" /><path clip-path=\"url(#clip600)\" d=\"M 0 0 M2110.37 208.296 L2110.37 212.323 Q2108.57 211.397 2106.62 210.935 Q2104.68 210.472 2102.6 210.472 Q2099.42 210.472 2097.83 211.444 Q2096.25 212.416 2096.25 214.36 Q2096.25 215.842 2097.39 216.698 Q2098.52 217.532 2101.95 218.296 L2103.41 218.62 Q2107.94 219.592 2109.84 221.374 Q2111.76 223.134 2111.76 226.305 Q2111.76 229.916 2108.89 232.022 Q2106.04 234.129 2101.04 234.129 Q2098.96 234.129 2096.69 233.712 Q2094.45 233.319 2091.95 232.508 L2091.95 228.11 Q2094.31 229.337 2096.6 229.962 Q2098.89 230.564 2101.14 230.564 Q2104.15 230.564 2105.77 229.546 Q2107.39 228.504 2107.39 226.629 Q2107.39 224.893 2106.21 223.967 Q2105.05 223.041 2101.09 222.184 L2099.61 221.837 Q2095.65 221.004 2093.89 219.291 Q2092.13 217.555 2092.13 214.546 Q2092.13 210.888 2094.73 208.898 Q2097.32 206.907 2102.09 206.907 Q2104.45 206.907 2106.53 207.254 Q2108.61 207.601 2110.37 208.296 Z\" fill=\"#000000\" fill-rule=\"evenodd\" fill-opacity=\"1\" /><path clip-path=\"url(#clip600)\" d=\"M 0 0 M2116.23 207.532 L2120.49 207.532 L2120.49 233.458 L2116.23 233.458 L2116.23 207.532 M2116.23 197.439 L2120.49 197.439 L2120.49 202.833 L2116.23 202.833 L2116.23 197.439 Z\" fill=\"#000000\" fill-rule=\"evenodd\" fill-opacity=\"1\" /><path clip-path=\"url(#clip600)\" d=\"M 0 0 M2135 210.518 Q2131.58 210.518 2129.59 213.203 Q2127.6 215.865 2127.6 220.518 Q2127.6 225.171 2129.56 227.856 Q2131.55 230.518 2135 230.518 Q2138.41 230.518 2140.4 227.833 Q2142.39 225.147 2142.39 220.518 Q2142.39 215.911 2140.4 213.226 Q2138.41 210.518 2135 210.518 M2135 206.907 Q2140.56 206.907 2143.73 210.518 Q2146.9 214.129 2146.9 220.518 Q2146.9 226.884 2143.73 230.518 Q2140.56 234.129 2135 234.129 Q2129.42 234.129 2126.25 230.518 Q2123.1 226.884 2123.1 220.518 Q2123.1 214.129 2126.25 210.518 Q2129.42 206.907 2135 206.907 Z\" fill=\"#000000\" fill-rule=\"evenodd\" fill-opacity=\"1\" /><path clip-path=\"url(#clip600)\" d=\"M 0 0 M2172.92 217.809 L2172.92 233.458 L2168.66 233.458 L2168.66 217.948 Q2168.66 214.268 2167.23 212.439 Q2165.79 210.61 2162.92 210.61 Q2159.47 210.61 2157.48 212.81 Q2155.49 215.009 2155.49 218.805 L2155.49 233.458 L2151.21 233.458 L2151.21 207.532 L2155.49 207.532 L2155.49 211.56 Q2157.02 209.222 2159.08 208.064 Q2161.16 206.907 2163.87 206.907 Q2168.34 206.907 2170.63 209.685 Q2172.92 212.439 2172.92 217.809 Z\" fill=\"#000000\" fill-rule=\"evenodd\" fill-opacity=\"1\" /><path clip-path=\"url(#clip600)\" d=\"M 0 0 M2205.58 197.439 L2205.58 200.981 L2201.51 200.981 Q2199.22 200.981 2198.31 201.907 Q2197.43 202.833 2197.43 205.24 L2197.43 207.532 L2204.45 207.532 L2204.45 210.842 L2197.43 210.842 L2197.43 233.458 L2193.15 233.458 L2193.15 210.842 L2189.08 210.842 L2189.08 207.532 L2193.15 207.532 L2193.15 205.726 Q2193.15 201.398 2195.16 199.43 Q2197.18 197.439 2201.55 197.439 L2205.58 197.439 Z\" fill=\"#000000\" fill-rule=\"evenodd\" fill-opacity=\"1\" /><path clip-path=\"url(#clip600)\" d=\"M 0 0 M2210.05 207.532 L2214.31 207.532 L2214.31 233.458 L2210.05 233.458 L2210.05 207.532 M2210.05 197.439 L2214.31 197.439 L2214.31 202.833 L2210.05 202.833 L2210.05 197.439 Z\" fill=\"#000000\" fill-rule=\"evenodd\" fill-opacity=\"1\" /><path clip-path=\"url(#clip600)\" d=\"M 0 0 M2222.99 200.171 L2222.99 207.532 L2231.76 207.532 L2231.76 210.842 L2222.99 210.842 L2222.99 224.916 Q2222.99 228.087 2223.85 228.99 Q2224.72 229.893 2227.39 229.893 L2231.76 229.893 L2231.76 233.458 L2227.39 233.458 Q2222.46 233.458 2220.58 231.629 Q2218.71 229.777 2218.71 224.916 L2218.71 210.842 L2215.58 210.842 L2215.58 207.532 L2218.71 207.532 L2218.71 200.171 L2222.99 200.171 Z\" fill=\"#000000\" fill-rule=\"evenodd\" fill-opacity=\"1\" /></svg>\n"
      ]
     },
     "execution_count": 10,
     "metadata": {},
     "output_type": "execute_result"
    }
   ],
   "source": [
    "plot!(y,seriestype=\"scatter\",label=\"data points\")\n",
    "plot!(calc_h0(x,theta),label=\"logistic regression fit\")"
   ]
  },
  {
   "cell_type": "code",
   "execution_count": 12,
   "metadata": {},
   "outputs": [
    {
     "name": "stdout",
     "output_type": "stream",
     "text": [
      "the equation of the classification line is 0.48x + -8.61"
     ]
    }
   ],
   "source": [
    "@printf(\"the equation of the classification line is %.2fx + %.2f\",theta[2],theta[1])"
   ]
  }
 ],
 "metadata": {
  "kernelspec": {
   "display_name": "Julia 1.5.1",
   "language": "julia",
   "name": "julia-1.5"
  },
  "language_info": {
   "file_extension": ".jl",
   "mimetype": "application/julia",
   "name": "julia",
   "version": "1.5.1"
  }
 },
 "nbformat": 4,
 "nbformat_minor": 4
}
