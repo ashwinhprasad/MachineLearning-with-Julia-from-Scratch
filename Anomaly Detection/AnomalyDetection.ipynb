{
 "cells": [
  {
   "cell_type": "code",
   "execution_count": 1,
   "metadata": {},
   "outputs": [],
   "source": [
    "# importing the modules\n",
    "using CSV\n",
    "using Plots\n",
    "using Printf\n",
    "using StatsBase\n",
    "using Statistics\n",
    "using LinearAlgebra"
   ]
  },
  {
   "cell_type": "code",
   "execution_count": 2,
   "metadata": {},
   "outputs": [
    {
     "data": {
      "text/html": [
       "<table class=\"data-frame\"><thead><tr><th></th><th>Time</th><th>V1</th><th>V2</th><th>V3</th><th>V4</th><th>V5</th><th>V6</th><th>V7</th></tr><tr><th></th><th>Float64</th><th>Float64</th><th>Float64</th><th>Float64</th><th>Float64</th><th>Float64</th><th>Float64</th><th>Float64</th></tr></thead><tbody><p>5 rows × 31 columns (omitted printing of 23 columns)</p><tr><th>1</th><td>0.0</td><td>-1.35981</td><td>-0.0727812</td><td>2.53635</td><td>1.37816</td><td>-0.338321</td><td>0.462388</td><td>0.239599</td></tr><tr><th>2</th><td>0.0</td><td>1.19186</td><td>0.266151</td><td>0.16648</td><td>0.448154</td><td>0.0600176</td><td>-0.0823608</td><td>-0.078803</td></tr><tr><th>3</th><td>1.0</td><td>-1.35835</td><td>-1.34016</td><td>1.77321</td><td>0.37978</td><td>-0.503198</td><td>1.8005</td><td>0.791461</td></tr><tr><th>4</th><td>1.0</td><td>-0.966272</td><td>-0.185226</td><td>1.79299</td><td>-0.863291</td><td>-0.0103089</td><td>1.2472</td><td>0.237609</td></tr><tr><th>5</th><td>2.0</td><td>-1.15823</td><td>0.877737</td><td>1.54872</td><td>0.403034</td><td>-0.407193</td><td>0.0959215</td><td>0.592941</td></tr></tbody></table>"
      ],
      "text/latex": [
       "\\begin{tabular}{r|ccccccccc}\n",
       "\t& Time & V1 & V2 & V3 & V4 & V5 & V6 & V7 & \\\\\n",
       "\t\\hline\n",
       "\t& Float64 & Float64 & Float64 & Float64 & Float64 & Float64 & Float64 & Float64 & \\\\\n",
       "\t\\hline\n",
       "\t1 & 0.0 & -1.35981 & -0.0727812 & 2.53635 & 1.37816 & -0.338321 & 0.462388 & 0.239599 & $\\dots$ \\\\\n",
       "\t2 & 0.0 & 1.19186 & 0.266151 & 0.16648 & 0.448154 & 0.0600176 & -0.0823608 & -0.078803 & $\\dots$ \\\\\n",
       "\t3 & 1.0 & -1.35835 & -1.34016 & 1.77321 & 0.37978 & -0.503198 & 1.8005 & 0.791461 & $\\dots$ \\\\\n",
       "\t4 & 1.0 & -0.966272 & -0.185226 & 1.79299 & -0.863291 & -0.0103089 & 1.2472 & 0.237609 & $\\dots$ \\\\\n",
       "\t5 & 2.0 & -1.15823 & 0.877737 & 1.54872 & 0.403034 & -0.407193 & 0.0959215 & 0.592941 & $\\dots$ \\\\\n",
       "\\end{tabular}\n"
      ],
      "text/plain": [
       "5×31 DataFrame. Omitted printing of 25 columns\n",
       "│ Row │ Time    │ V1        │ V2         │ V3      │ V4        │ V5         │\n",
       "│     │ \u001b[90mFloat64\u001b[39m │ \u001b[90mFloat64\u001b[39m   │ \u001b[90mFloat64\u001b[39m    │ \u001b[90mFloat64\u001b[39m │ \u001b[90mFloat64\u001b[39m   │ \u001b[90mFloat64\u001b[39m    │\n",
       "├─────┼─────────┼───────────┼────────────┼─────────┼───────────┼────────────┤\n",
       "│ 1   │ 0.0     │ -1.35981  │ -0.0727812 │ 2.53635 │ 1.37816   │ -0.338321  │\n",
       "│ 2   │ 0.0     │ 1.19186   │ 0.266151   │ 0.16648 │ 0.448154  │ 0.0600176  │\n",
       "│ 3   │ 1.0     │ -1.35835  │ -1.34016   │ 1.77321 │ 0.37978   │ -0.503198  │\n",
       "│ 4   │ 1.0     │ -0.966272 │ -0.185226  │ 1.79299 │ -0.863291 │ -0.0103089 │\n",
       "│ 5   │ 2.0     │ -1.15823  │ 0.877737   │ 1.54872 │ 0.403034  │ -0.407193  │"
      ]
     },
     "execution_count": 2,
     "metadata": {},
     "output_type": "execute_result"
    }
   ],
   "source": [
    "# dataset\n",
    "df = CSV.read(\"./creditcard.csv\");\n",
    "df[1:5,:]"
   ]
  },
  {
   "cell_type": "code",
   "execution_count": 3,
   "metadata": {},
   "outputs": [],
   "source": [
    "# calculate covariance matrix\n",
    "σ = StatsBase.cov(Array(df[:,1: (size(df)[2]-1)]));"
   ]
  },
  {
   "cell_type": "code",
   "execution_count": 4,
   "metadata": {},
   "outputs": [],
   "source": [
    "# calculate mean of each column\n",
    "μ = []\n",
    "for i in 1:size(df)[2]-1\n",
    "    push!(μ,mean(Vector(df[:,i])));\n",
    "end;"
   ]
  },
  {
   "cell_type": "code",
   "execution_count": 5,
   "metadata": {},
   "outputs": [],
   "source": [
    "threshold = 1.0e-160;\n",
    "k = length(μ)\n",
    "result = []\n",
    "count = 0\n",
    "\n",
    "# calculate anomaly\n",
    "function calc_anomaly(row,i)\n",
    "    global count;\n",
    "    row = Vector(row);\n",
    "    probability = (1/sqrt(((2*π)^k)* det(σ)))*(ℯ^((-1/2)*transpose(row-μ)*inv(σ)*(row-μ)))\n",
    "    if probability < threshold\n",
    "        count+=1;\n",
    "        push!(result,1);\n",
    "    else\n",
    "        push!(result,0);\n",
    "    end;\n",
    "end;"
   ]
  },
  {
   "cell_type": "code",
   "execution_count": 6,
   "metadata": {},
   "outputs": [
    {
     "name": "stdout",
     "output_type": "stream",
     "text": [
      "we detected 706 anomalies"
     ]
    }
   ],
   "source": [
    "# looping through all the rows to check for anomaly\n",
    "for i in 1:size(df)[1]\n",
    "    calc_anomaly(df[i,1:size(df)[2]-1],i);\n",
    "end;\n",
    "@printf(\"we detected %d anomalies\",sum(result))"
   ]
  },
  {
   "cell_type": "code",
   "execution_count": 7,
   "metadata": {},
   "outputs": [
    {
     "name": "stdout",
     "output_type": "stream",
     "text": [
      "Anomaly detection model has an accuracy of :99.678"
     ]
    }
   ],
   "source": [
    "# verifying model's accuracy\n",
    "@printf(\"Anomaly detection model has an accuracy of :%.3f\",(sum(result .== df[:,size(df)[2]])/length(result))*100);"
   ]
  }
 ],
 "metadata": {
  "kernelspec": {
   "display_name": "Julia 1.5.1",
   "language": "julia",
   "name": "julia-1.5"
  },
  "language_info": {
   "file_extension": ".jl",
   "mimetype": "application/julia",
   "name": "julia",
   "version": "1.5.1"
  }
 },
 "nbformat": 4,
 "nbformat_minor": 4
}
